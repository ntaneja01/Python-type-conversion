{
 "cells": [
  {
   "cell_type": "code",
   "execution_count": 3,
   "id": "d7490cd3-4346-4f5c-89d8-37acd43f6af8",
   "metadata": {},
   "outputs": [
    {
     "data": {
      "text/plain": [
       "9"
      ]
     },
     "execution_count": 3,
     "metadata": {},
     "output_type": "execute_result"
    }
   ],
   "source": [
    "# Assignment python operators\n",
    "\n",
    "# Calculate the sum, difference, product, and quotient of two numbers.\n",
    "\n",
    "\n",
    "a = 5\n",
    "b = 4\n",
    "\n",
    "a + b"
   ]
  },
  {
   "cell_type": "code",
   "execution_count": 4,
   "id": "3d7f1b26-2919-499a-80a0-069c1d6a90c4",
   "metadata": {},
   "outputs": [
    {
     "data": {
      "text/plain": [
       "1"
      ]
     },
     "execution_count": 4,
     "metadata": {},
     "output_type": "execute_result"
    }
   ],
   "source": [
    "a - b"
   ]
  },
  {
   "cell_type": "code",
   "execution_count": 5,
   "id": "1e20a800-6cc8-4a55-8a84-b39010a128e8",
   "metadata": {},
   "outputs": [
    {
     "data": {
      "text/plain": [
       "20"
      ]
     },
     "execution_count": 5,
     "metadata": {},
     "output_type": "execute_result"
    }
   ],
   "source": [
    "a * b"
   ]
  },
  {
   "cell_type": "code",
   "execution_count": 6,
   "id": "03971a42-6600-4ab7-a916-c6cd90d02ffb",
   "metadata": {},
   "outputs": [
    {
     "data": {
      "text/plain": [
       "1.25"
      ]
     },
     "execution_count": 6,
     "metadata": {},
     "output_type": "execute_result"
    }
   ],
   "source": [
    "a / b "
   ]
  },
  {
   "cell_type": "code",
   "execution_count": 1,
   "id": "8e858019-e025-470b-87d2-073f110d1677",
   "metadata": {},
   "outputs": [
    {
     "data": {
      "text/plain": [
       "1"
      ]
     },
     "execution_count": 1,
     "metadata": {},
     "output_type": "execute_result"
    }
   ],
   "source": [
    "5 % 4 # gives remainder"
   ]
  },
  {
   "cell_type": "code",
   "execution_count": 2,
   "id": "ec680b96-960e-4f0e-9fe1-75a207117d1f",
   "metadata": {},
   "outputs": [
    {
     "data": {
      "text/plain": [
       "1"
      ]
     },
     "execution_count": 2,
     "metadata": {},
     "output_type": "execute_result"
    }
   ],
   "source": [
    "5 // 4   # gives nearest value "
   ]
  },
  {
   "cell_type": "code",
   "execution_count": 7,
   "id": "80f7b904-8a4d-4c1d-8cc0-1bbc5dc20ecf",
   "metadata": {},
   "outputs": [
    {
     "data": {
      "text/plain": [
       "10"
      ]
     },
     "execution_count": 7,
     "metadata": {},
     "output_type": "execute_result"
    }
   ],
   "source": [
    "# 2 Perform various assignment operations on a variable.\n",
    "\n",
    "\n",
    "\n",
    "a = 5\n",
    "a +=5\n",
    "a"
   ]
  },
  {
   "cell_type": "code",
   "execution_count": 8,
   "id": "6be39edf-2218-4d09-bfda-6cd9674e9029",
   "metadata": {},
   "outputs": [
    {
     "data": {
      "text/plain": [
       "10"
      ]
     },
     "execution_count": 8,
     "metadata": {},
     "output_type": "execute_result"
    }
   ],
   "source": [
    "a"
   ]
  },
  {
   "cell_type": "code",
   "execution_count": 12,
   "id": "9ecd5378-0b87-4beb-be4e-b6c23586878f",
   "metadata": {},
   "outputs": [
    {
     "data": {
      "text/plain": [
       "3"
      ]
     },
     "execution_count": 12,
     "metadata": {},
     "output_type": "execute_result"
    }
   ],
   "source": [
    "a = 5\n",
    "a -=2\n",
    "a"
   ]
  },
  {
   "cell_type": "code",
   "execution_count": 13,
   "id": "f54a20ee-8182-4766-91b0-025058aa5d54",
   "metadata": {},
   "outputs": [
    {
     "data": {
      "text/plain": [
       "3"
      ]
     },
     "execution_count": 13,
     "metadata": {},
     "output_type": "execute_result"
    }
   ],
   "source": [
    "a"
   ]
  },
  {
   "cell_type": "code",
   "execution_count": 16,
   "id": "ebbd9c8c-0a46-4d5d-8dd9-b523a87c3a56",
   "metadata": {},
   "outputs": [
    {
     "data": {
      "text/plain": [
       "25"
      ]
     },
     "execution_count": 16,
     "metadata": {},
     "output_type": "execute_result"
    }
   ],
   "source": [
    "a = 5\n",
    "a *= 5\n",
    "a"
   ]
  },
  {
   "cell_type": "code",
   "execution_count": 17,
   "id": "299dd285-ef49-441c-9aac-c68b81183f0d",
   "metadata": {},
   "outputs": [
    {
     "data": {
      "text/plain": [
       "5.0"
      ]
     },
     "execution_count": 17,
     "metadata": {},
     "output_type": "execute_result"
    }
   ],
   "source": [
    "a = 10\n",
    "a /= 2\n",
    "a"
   ]
  },
  {
   "cell_type": "code",
   "execution_count": 18,
   "id": "4c3abd69-d000-4043-990e-64ab69b4ef82",
   "metadata": {},
   "outputs": [
    {
     "data": {
      "text/plain": [
       "False"
      ]
     },
     "execution_count": 18,
     "metadata": {},
     "output_type": "execute_result"
    }
   ],
   "source": [
    "# Compare two numbers and print the results.\n",
    "\n",
    "\n",
    "a = 2\n",
    "b = 3\n",
    "a == b"
   ]
  },
  {
   "cell_type": "code",
   "execution_count": 19,
   "id": "0a5bf96a-7918-4e13-9b56-4a30958ee856",
   "metadata": {},
   "outputs": [
    {
     "data": {
      "text/plain": [
       "True"
      ]
     },
     "execution_count": 19,
     "metadata": {},
     "output_type": "execute_result"
    }
   ],
   "source": [
    "a = 5\n",
    "b = 5\n",
    "a == b"
   ]
  },
  {
   "cell_type": "code",
   "execution_count": 20,
   "id": "a50680d0-0f1c-4ce9-8793-3473e38506c0",
   "metadata": {},
   "outputs": [
    {
     "data": {
      "text/plain": [
       "True"
      ]
     },
     "execution_count": 20,
     "metadata": {},
     "output_type": "execute_result"
    }
   ],
   "source": [
    "# 4 Check conditions using logical operators.\n",
    "\n",
    "\n",
    "True & True"
   ]
  },
  {
   "cell_type": "code",
   "execution_count": 21,
   "id": "742763d1-53fa-40b1-82f8-84cfbaf66072",
   "metadata": {},
   "outputs": [
    {
     "data": {
      "text/plain": [
       "False"
      ]
     },
     "execution_count": 21,
     "metadata": {},
     "output_type": "execute_result"
    }
   ],
   "source": [
    "True & False"
   ]
  },
  {
   "cell_type": "code",
   "execution_count": 22,
   "id": "cac9c745-f9d9-4e49-abc9-363d84a7acbc",
   "metadata": {},
   "outputs": [
    {
     "data": {
      "text/plain": [
       "True"
      ]
     },
     "execution_count": 22,
     "metadata": {},
     "output_type": "execute_result"
    }
   ],
   "source": [
    "True | True"
   ]
  },
  {
   "cell_type": "code",
   "execution_count": 23,
   "id": "74f96f32-acb4-443b-b657-0d47ea2e1a33",
   "metadata": {},
   "outputs": [
    {
     "data": {
      "text/plain": [
       "True"
      ]
     },
     "execution_count": 23,
     "metadata": {},
     "output_type": "execute_result"
    }
   ],
   "source": [
    "True | False"
   ]
  },
  {
   "cell_type": "code",
   "execution_count": 24,
   "id": "1b35e05c-8a2f-446c-a27d-f5724f31d1fc",
   "metadata": {},
   "outputs": [
    {
     "data": {
      "text/plain": [
       "False"
      ]
     },
     "execution_count": 24,
     "metadata": {},
     "output_type": "execute_result"
    }
   ],
   "source": [
    "not True "
   ]
  },
  {
   "cell_type": "code",
   "execution_count": 25,
   "id": "87348527-95ef-49b9-8f66-65ee83d24034",
   "metadata": {},
   "outputs": [
    {
     "data": {
      "text/plain": [
       "True"
      ]
     },
     "execution_count": 25,
     "metadata": {},
     "output_type": "execute_result"
    }
   ],
   "source": [
    "not False"
   ]
  },
  {
   "cell_type": "code",
   "execution_count": 26,
   "id": "d655d5bb-de18-46f6-94c3-54dfb3749a53",
   "metadata": {},
   "outputs": [
    {
     "data": {
      "text/plain": [
       "False"
      ]
     },
     "execution_count": 26,
     "metadata": {},
     "output_type": "execute_result"
    }
   ],
   "source": [
    "# 5 Check the identity of variables.\n",
    "\n",
    "\n",
    "a  = \"naman_taneja\"\n",
    "b = \"pwskills\"\n",
    "a is b"
   ]
  },
  {
   "cell_type": "code",
   "execution_count": 27,
   "id": "37240437-8e2b-40c1-85d4-5f87a496bc41",
   "metadata": {},
   "outputs": [
    {
     "data": {
      "text/plain": [
       "True"
      ]
     },
     "execution_count": 27,
     "metadata": {},
     "output_type": "execute_result"
    }
   ],
   "source": [
    "a is not b"
   ]
  },
  {
   "cell_type": "code",
   "execution_count": 28,
   "id": "8babc5e0-37b4-4454-bfb2-4d1737d4b50d",
   "metadata": {},
   "outputs": [
    {
     "data": {
      "text/plain": [
       "True"
      ]
     },
     "execution_count": 28,
     "metadata": {},
     "output_type": "execute_result"
    }
   ],
   "source": [
    "a = \"naman_taneja\"\n",
    "b = \"naman_taneja\"\n",
    "a is b "
   ]
  },
  {
   "cell_type": "code",
   "execution_count": 29,
   "id": "0bea5053-9fb8-477f-b2b6-7038dca98fdf",
   "metadata": {},
   "outputs": [
    {
     "data": {
      "text/plain": [
       "False"
      ]
     },
     "execution_count": 29,
     "metadata": {},
     "output_type": "execute_result"
    }
   ],
   "source": [
    "a is not b "
   ]
  },
  {
   "cell_type": "code",
   "execution_count": 30,
   "id": "353de08c-89ce-4d2f-aa39-0b572ca10082",
   "metadata": {},
   "outputs": [
    {
     "data": {
      "text/plain": [
       "1"
      ]
     },
     "execution_count": 30,
     "metadata": {},
     "output_type": "execute_result"
    }
   ],
   "source": [
    "# 6 Perform bitwise operations on any two integers.\n",
    "\n",
    "\n",
    "5 & 3     # and"
   ]
  },
  {
   "cell_type": "code",
   "execution_count": 31,
   "id": "a23edb6e-6a30-4094-b01b-9167dd3e26bf",
   "metadata": {},
   "outputs": [
    {
     "data": {
      "text/plain": [
       "7"
      ]
     },
     "execution_count": 31,
     "metadata": {},
     "output_type": "execute_result"
    }
   ],
   "source": [
    "5 | 3     # or"
   ]
  },
  {
   "cell_type": "code",
   "execution_count": 32,
   "id": "c16eed1b-0c90-4ec3-9237-422500d01421",
   "metadata": {},
   "outputs": [
    {
     "data": {
      "text/plain": [
       "6"
      ]
     },
     "execution_count": 32,
     "metadata": {},
     "output_type": "execute_result"
    }
   ],
   "source": [
    "5^3  # Xor "
   ]
  },
  {
   "cell_type": "code",
   "execution_count": 33,
   "id": "7ae87ec5-4b32-4551-b4ff-2c78225c48c7",
   "metadata": {},
   "outputs": [
    {
     "data": {
      "text/plain": [
       "-6"
      ]
     },
     "execution_count": 33,
     "metadata": {},
     "output_type": "execute_result"
    }
   ],
   "source": [
    "~5"
   ]
  },
  {
   "cell_type": "code",
   "execution_count": 34,
   "id": "0d920434-20b7-4d46-b0d0-4db782d69925",
   "metadata": {},
   "outputs": [
    {
     "data": {
      "text/plain": [
       "2"
      ]
     },
     "execution_count": 34,
     "metadata": {},
     "output_type": "execute_result"
    }
   ],
   "source": [
    "~ 5&3 # nor"
   ]
  },
  {
   "cell_type": "code",
   "execution_count": 1,
   "id": "ee2a2245-5379-4519-8bed-52894f4f4ee7",
   "metadata": {},
   "outputs": [
    {
     "name": "stdout",
     "output_type": "stream",
     "text": [
      "-1\n"
     ]
    }
   ],
   "source": [
    "#  7 Use unary operators to change the sign of a number.\n",
    "\n",
    "\n",
    "\n",
    "a = -5\n",
    "b = 4\n",
    "c =  a+b\n",
    "print(c)"
   ]
  },
  {
   "cell_type": "code",
   "execution_count": 4,
   "id": "cd289f90-b24e-42e0-8c75-10fe2684f2bc",
   "metadata": {},
   "outputs": [
    {
     "name": "stdout",
     "output_type": "stream",
     "text": [
      "mamta is developer\n"
     ]
    }
   ],
   "source": [
    "# 8 Use the ternary operator to assign variables based on conditions.\n",
    "# it is used for single line statements \n",
    "\n",
    "\n",
    "\n",
    "a = \"knows python\"\n",
    "b = \"Mamta\"\n",
    "print(\"she is not python developer\" if a ==b else\"mamta is developer\")"
   ]
  },
  {
   "cell_type": "code",
   "execution_count": 3,
   "id": "0fb78b7b-3b2a-414e-b514-7746c9b847c0",
   "metadata": {},
   "outputs": [
    {
     "name": "stdout",
     "output_type": "stream",
     "text": [
      "b is greater\n"
     ]
    }
   ],
   "source": [
    "a = 10\n",
    "b = 20\n",
    "print(\"both are equall\" if a == b else \"a is greater\" if a>b else \"b is greater\"  )"
   ]
  },
  {
   "cell_type": "code",
   "execution_count": null,
   "id": "d65f5ba5-074d-4139-8129-312bef556464",
   "metadata": {},
   "outputs": [],
   "source": []
  }
 ],
 "metadata": {
  "kernelspec": {
   "display_name": "Python 3 (ipykernel)",
   "language": "python",
   "name": "python3"
  },
  "language_info": {
   "codemirror_mode": {
    "name": "ipython",
    "version": 3
   },
   "file_extension": ".py",
   "mimetype": "text/x-python",
   "name": "python",
   "nbconvert_exporter": "python",
   "pygments_lexer": "ipython3",
   "version": "3.10.8"
  }
 },
 "nbformat": 4,
 "nbformat_minor": 5
}

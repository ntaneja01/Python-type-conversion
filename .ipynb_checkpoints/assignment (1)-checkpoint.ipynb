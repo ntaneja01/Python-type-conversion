{
 "cells": [
  {
   "cell_type": "code",
   "execution_count": 2,
   "id": "bc5e4167-1cfb-409e-bed2-d47596bfb483",
   "metadata": {},
   "outputs": [
    {
     "name": "stdout",
     "output_type": "stream",
     "text": [
      "5.0\n"
     ]
    },
    {
     "data": {
      "text/plain": [
       "float"
      ]
     },
     "execution_count": 2,
     "metadata": {},
     "output_type": "execute_result"
    }
   ],
   "source": [
    "# 1 FROM INEGER TO FLOAT\n",
    "int_num = 5\n",
    "num_float = float(int_num)\n",
    "print(num_float)\n",
    "type(num_float)"
   ]
  },
  {
   "cell_type": "code",
   "execution_count": 1,
   "id": "ebc6c2bd-0f10-47c9-bd51-8bbe662bb843",
   "metadata": {},
   "outputs": [
    {
     "name": "stdout",
     "output_type": "stream",
     "text": [
      "9\n"
     ]
    },
    {
     "data": {
      "text/plain": [
       "int"
      ]
     },
     "execution_count": 1,
     "metadata": {},
     "output_type": "execute_result"
    }
   ],
   "source": [
    "# 2  FROM FLOAT TO INTEGER\n",
    "flot_num = 9.9\n",
    "int_num = int(flot_num)\n",
    "print(int_num)\n",
    "type(int_num)"
   ]
  },
  {
   "cell_type": "code",
   "execution_count": 5,
   "id": "3d837c02-abbb-4a00-887a-f99e4dfc0c82",
   "metadata": {},
   "outputs": [
    {
     "name": "stdout",
     "output_type": "stream",
     "text": [
      "9\n",
      "9\n"
     ]
    },
    {
     "data": {
      "text/plain": [
       "str"
      ]
     },
     "execution_count": 5,
     "metadata": {},
     "output_type": "execute_result"
    }
   ],
   "source": [
    "# 3  INTEGER TO STRING\n",
    "int_num = 9\n",
    "str_num = str(int_num)\n",
    "print(int_num)\n",
    "print(str_num)\n",
    "type(str_num)"
   ]
  },
  {
   "cell_type": "code",
   "execution_count": 6,
   "id": "78a4820e-ae5b-4967-93cf-9b98643cd4bb",
   "metadata": {},
   "outputs": [
    {
     "name": "stdout",
     "output_type": "stream",
     "text": [
      "(1, 2, 3, 4, 'naman', 1)\n"
     ]
    },
    {
     "data": {
      "text/plain": [
       "tuple"
      ]
     },
     "execution_count": 6,
     "metadata": {},
     "output_type": "execute_result"
    }
   ],
   "source": [
    "# 3 FROM LIST TO TUPLE\n",
    "my_list = [1,2,3,4, \"naman\", 1]\n",
    "my_tuple = tuple(my_list)\n",
    "print(my_tuple)\n",
    "type(my_tuple)"
   ]
  },
  {
   "cell_type": "code",
   "execution_count": 7,
   "id": "149f9c38-a7e7-4246-a17a-d945957f3ec2",
   "metadata": {},
   "outputs": [
    {
     "name": "stdout",
     "output_type": "stream",
     "text": [
      "[1, 2, 3, 4, 5, 1]\n"
     ]
    },
    {
     "data": {
      "text/plain": [
       "list"
      ]
     },
     "execution_count": 7,
     "metadata": {},
     "output_type": "execute_result"
    }
   ],
   "source": [
    "# 4 FROM TUPLE TO LIST  \n",
    "my_tuple = (1,2,3,4,5,1)\n",
    "my_list = list(my_tuple)\n",
    "print(my_list)\n",
    "type(my_list)"
   ]
  },
  {
   "cell_type": "code",
   "execution_count": 17,
   "id": "ec55ae0f-8f1e-4ab8-b5e6-3c3185e2e468",
   "metadata": {},
   "outputs": [
    {
     "data": {
      "text/plain": [
       "'0b1001'"
      ]
     },
     "execution_count": 17,
     "metadata": {},
     "output_type": "execute_result"
    }
   ],
   "source": [
    "# 5 DECIMAL NUMBER TO BINARY\n",
    "bin(9) "
   ]
  },
  {
   "cell_type": "code",
   "execution_count": 19,
   "id": "d16b30e7-f0f4-45c4-848a-0272619e7cd7",
   "metadata": {},
   "outputs": [
    {
     "name": "stdout",
     "output_type": "stream",
     "text": [
      "True\n"
     ]
    },
    {
     "data": {
      "text/plain": [
       "bool"
      ]
     },
     "execution_count": 19,
     "metadata": {},
     "output_type": "execute_result"
    }
   ],
   "source": [
    "# 6 FROM NON-ZERO NUMBER TO BOOLEAN\n",
    "num_nonzero = \" naman_TANEJA\"\n",
    "BOOLEAN = bool(num_nonzero)\n",
    "print(BOOLEAN)\n",
    "type(BOOLEAN)"
   ]
  },
  {
   "cell_type": "code",
   "execution_count": null,
   "id": "0f773842-cf0e-4fae-8593-ee31e43280f8",
   "metadata": {},
   "outputs": [],
   "source": []
  }
 ],
 "metadata": {
  "kernelspec": {
   "display_name": "Python 3 (ipykernel)",
   "language": "python",
   "name": "python3"
  },
  "language_info": {
   "codemirror_mode": {
    "name": "ipython",
    "version": 3
   },
   "file_extension": ".py",
   "mimetype": "text/x-python",
   "name": "python",
   "nbconvert_exporter": "python",
   "pygments_lexer": "ipython3",
   "version": "3.10.8"
  }
 },
 "nbformat": 4,
 "nbformat_minor": 5
}
